{
 "cells": [
  {
   "cell_type": "code",
   "execution_count": 1,
   "id": "4613d224",
   "metadata": {},
   "outputs": [],
   "source": [
    "import requests\n",
    "from bs4 import BeautifulSoup\n",
    "import string\n",
    "import pandas as pd"
   ]
  },
  {
   "cell_type": "code",
   "execution_count": 2,
   "id": "efcf2f28-49b0-40cb-9065-1d0d5d23fc9c",
   "metadata": {},
   "outputs": [],
   "source": [
    "big=string.ascii_uppercase\n",
    "baseof_letter_url='https://poezja.org/wz/letter/'\n",
    "dict_of_artists={}\n",
    "for letter in big:\n",
    "    letter_url=baseof_letter_url+letter+'/' #link to page with artists for each letter\n",
    "    main = requests.get(letter_url)\n",
    "    to_get = BeautifulSoup(main.text)\n",
    "    for artists in to_get.find_all(class_=\"col-8 col-sm-12 col-lg-8 author--content\"):  #loop for each artists on a page\n",
    "        dict_of_artists[artists.a.text]=artists.a.get('href')"
   ]
  },
  {
   "cell_type": "code",
   "execution_count": 3,
   "id": "b33e8646-514b-4009-9630-52ebcf7da1b4",
   "metadata": {},
   "outputs": [],
   "source": [
    "dict_of_poems={}\n",
    "for key,values in dict_of_artists.items(): #loop for each arists in dictionary\n",
    "    profile = requests.get(values)\n",
    "    content = BeautifulSoup(profile.text)\n",
    "    sth=content.find_all(id='author-works') \n",
    "    for intere in sth:\n",
    "        for ints in intere.find_all(class_=\"col-12 col-sm-6 col-md-4 col-lg-3 justify-content-between card\"): \n",
    "            dict_of_poems[ints.a.get('href')]=[ints.a.text, key]    #getting links and titles for each artist poems"
   ]
  },
  {
   "cell_type": "code",
   "execution_count": 4,
   "id": "7414b636-35e7-42bd-a260-e5594e7cf5c7",
   "metadata": {},
   "outputs": [],
   "source": [
    "titles_to_df=[]\n",
    "artists_to_df=[]\n",
    "poems_to_df=[]\n",
    "for  key,values in dict_of_poems.items():\n",
    "    text=[]\n",
    "    between = requests.get(key)\n",
    "    book = BeautifulSoup(between.text)\n",
    "    for x in book.find_all(class_=\"col-12 col-lg-8\"): \n",
    "        text.append(x.text)\n",
    "    try:\n",
    "        titles_to_df.append(text[0])\n",
    "        artists_to_df.append(text[1])\n",
    "        poems_to_df.append(text[2])\n",
    "    except IndexError:\n",
    "        pass"
   ]
  },
  {
   "cell_type": "code",
   "execution_count": 5,
   "id": "5d30bc98-492a-48dc-9fd6-9bf40a20be6e",
   "metadata": {},
   "outputs": [
    {
     "data": {
      "text/html": [
       "<div>\n",
       "<style scoped>\n",
       "    .dataframe tbody tr th:only-of-type {\n",
       "        vertical-align: middle;\n",
       "    }\n",
       "\n",
       "    .dataframe tbody tr th {\n",
       "        vertical-align: top;\n",
       "    }\n",
       "\n",
       "    .dataframe thead th {\n",
       "        text-align: right;\n",
       "    }\n",
       "</style>\n",
       "<table border=\"1\" class=\"dataframe\">\n",
       "  <thead>\n",
       "    <tr style=\"text-align: right;\">\n",
       "      <th></th>\n",
       "      <th>title</th>\n",
       "      <th>poem</th>\n",
       "      <th>artist</th>\n",
       "    </tr>\n",
       "  </thead>\n",
       "  <tbody>\n",
       "    <tr>\n",
       "      <th>0</th>\n",
       "      <td>\\nNoc taka piękna!\\n</td>\n",
       "      <td>\\n\\nNoc taka piękna!... Z błękitów patrzy gwia...</td>\n",
       "      <td>\\n\\n\\nAutor:\\nBogusław Adamowicz\\n\\n\\n</td>\n",
       "    </tr>\n",
       "    <tr>\n",
       "      <th>1</th>\n",
       "      <td>\\nNagość\\n</td>\n",
       "      <td>\\n\\nWszystko co kocha, obsłon pragnie zdzierać...</td>\n",
       "      <td>\\n\\n\\nAutor:\\nBogusław Adamowicz\\n\\n\\n</td>\n",
       "    </tr>\n",
       "    <tr>\n",
       "      <th>2</th>\n",
       "      <td>\\nWstyd\\n</td>\n",
       "      <td>\\n\\nNad łożem Niewinności wiotkiej i dziewicze...</td>\n",
       "      <td>\\n\\n\\nAutor:\\nBogusław Adamowicz\\n\\n\\n</td>\n",
       "    </tr>\n",
       "    <tr>\n",
       "      <th>3</th>\n",
       "      <td>\\nZa kim?\\n</td>\n",
       "      <td>\\n\\nZdaje się, że schodzę w jakąś otchłań ciem...</td>\n",
       "      <td>\\n\\n\\nAutor:\\nBogusław Adamowicz\\n\\n\\n</td>\n",
       "    </tr>\n",
       "    <tr>\n",
       "      <th>4</th>\n",
       "      <td>\\nDwa jakieś kwiaty...\\n</td>\n",
       "      <td>\\n\\nDwa jakieś kwiaty na nieznanej łące\\nZnęci...</td>\n",
       "      <td>\\n\\n\\nAutor:\\nBogusław Adamowicz\\n\\n\\n</td>\n",
       "    </tr>\n",
       "  </tbody>\n",
       "</table>\n",
       "</div>"
      ],
      "text/plain": [
       "                      title  \\\n",
       "0      \\nNoc taka piękna!\\n   \n",
       "1                \\nNagość\\n   \n",
       "2                 \\nWstyd\\n   \n",
       "3               \\nZa kim?\\n   \n",
       "4  \\nDwa jakieś kwiaty...\\n   \n",
       "\n",
       "                                                poem  \\\n",
       "0  \\n\\nNoc taka piękna!... Z błękitów patrzy gwia...   \n",
       "1  \\n\\nWszystko co kocha, obsłon pragnie zdzierać...   \n",
       "2  \\n\\nNad łożem Niewinności wiotkiej i dziewicze...   \n",
       "3  \\n\\nZdaje się, że schodzę w jakąś otchłań ciem...   \n",
       "4  \\n\\nDwa jakieś kwiaty na nieznanej łące\\nZnęci...   \n",
       "\n",
       "                                   artist  \n",
       "0  \\n\\n\\nAutor:\\nBogusław Adamowicz\\n\\n\\n  \n",
       "1  \\n\\n\\nAutor:\\nBogusław Adamowicz\\n\\n\\n  \n",
       "2  \\n\\n\\nAutor:\\nBogusław Adamowicz\\n\\n\\n  \n",
       "3  \\n\\n\\nAutor:\\nBogusław Adamowicz\\n\\n\\n  \n",
       "4  \\n\\n\\nAutor:\\nBogusław Adamowicz\\n\\n\\n  "
      ]
     },
     "execution_count": 5,
     "metadata": {},
     "output_type": "execute_result"
    }
   ],
   "source": [
    "df=pd.DataFrame(\n",
    "    {\"title\" : titles_to_df,\n",
    "     \"poem\" : poems_to_df,\n",
    "     \"artist\" : artists_to_df\n",
    "    })\n",
    "df.head()"
   ]
  },
  {
   "cell_type": "code",
   "execution_count": 6,
   "id": "bf42b0e7-5f9d-43a2-9ad2-517a17d1e438",
   "metadata": {},
   "outputs": [
    {
     "data": {
      "text/html": [
       "<div>\n",
       "<style scoped>\n",
       "    .dataframe tbody tr th:only-of-type {\n",
       "        vertical-align: middle;\n",
       "    }\n",
       "\n",
       "    .dataframe tbody tr th {\n",
       "        vertical-align: top;\n",
       "    }\n",
       "\n",
       "    .dataframe thead th {\n",
       "        text-align: right;\n",
       "    }\n",
       "</style>\n",
       "<table border=\"1\" class=\"dataframe\">\n",
       "  <thead>\n",
       "    <tr style=\"text-align: right;\">\n",
       "      <th></th>\n",
       "      <th>title</th>\n",
       "      <th>poem</th>\n",
       "      <th>artist</th>\n",
       "    </tr>\n",
       "  </thead>\n",
       "  <tbody>\n",
       "    <tr>\n",
       "      <th>0</th>\n",
       "      <td>Noc taka piękna!</td>\n",
       "      <td>\\n\\nNoc taka piękna!... Z błękitów patrzy gwia...</td>\n",
       "      <td>Bogusław Adamowicz</td>\n",
       "    </tr>\n",
       "    <tr>\n",
       "      <th>1</th>\n",
       "      <td>Nagość</td>\n",
       "      <td>\\n\\nWszystko co kocha, obsłon pragnie zdzierać...</td>\n",
       "      <td>Bogusław Adamowicz</td>\n",
       "    </tr>\n",
       "    <tr>\n",
       "      <th>2</th>\n",
       "      <td>Wstyd</td>\n",
       "      <td>\\n\\nNad łożem Niewinności wiotkiej i dziewicze...</td>\n",
       "      <td>Bogusław Adamowicz</td>\n",
       "    </tr>\n",
       "    <tr>\n",
       "      <th>3</th>\n",
       "      <td>Za kim?</td>\n",
       "      <td>\\n\\nZdaje się, że schodzę w jakąś otchłań ciem...</td>\n",
       "      <td>Bogusław Adamowicz</td>\n",
       "    </tr>\n",
       "    <tr>\n",
       "      <th>4</th>\n",
       "      <td>Dwa jakieś kwiaty...</td>\n",
       "      <td>\\n\\nDwa jakieś kwiaty na nieznanej łące\\nZnęci...</td>\n",
       "      <td>Bogusław Adamowicz</td>\n",
       "    </tr>\n",
       "  </tbody>\n",
       "</table>\n",
       "</div>"
      ],
      "text/plain": [
       "                  title                                               poem  \\\n",
       "0      Noc taka piękna!  \\n\\nNoc taka piękna!... Z błękitów patrzy gwia...   \n",
       "1                Nagość  \\n\\nWszystko co kocha, obsłon pragnie zdzierać...   \n",
       "2                 Wstyd  \\n\\nNad łożem Niewinności wiotkiej i dziewicze...   \n",
       "3               Za kim?  \\n\\nZdaje się, że schodzę w jakąś otchłań ciem...   \n",
       "4  Dwa jakieś kwiaty...  \\n\\nDwa jakieś kwiaty na nieznanej łące\\nZnęci...   \n",
       "\n",
       "               artist  \n",
       "0  Bogusław Adamowicz  \n",
       "1  Bogusław Adamowicz  \n",
       "2  Bogusław Adamowicz  \n",
       "3  Bogusław Adamowicz  \n",
       "4  Bogusław Adamowicz  "
      ]
     },
     "execution_count": 6,
     "metadata": {},
     "output_type": "execute_result"
    }
   ],
   "source": [
    "df['title']=df['title'].str.replace('\\n','')\n",
    "df['title']=df['title'].str.strip()\n",
    "df['artist']=df['artist'].str.replace('Autor:','')\n",
    "df['artist']=df['artist'].str.replace('\\n',' ')\n",
    "df['artist']=df['artist'].str.strip()\n",
    "df.head()"
   ]
  },
  {
   "cell_type": "code",
   "execution_count": 7,
   "id": "3171c297-0850-4a93-b47f-e28cdd742b9c",
   "metadata": {},
   "outputs": [],
   "source": [
    "df.to_csv('poems.csv', index=False)"
   ]
  },
  {
   "cell_type": "code",
   "execution_count": null,
   "id": "fbd43d83-92f9-4d40-8846-bc19f6f5dee1",
   "metadata": {},
   "outputs": [],
   "source": []
  },
  {
   "cell_type": "code",
   "execution_count": null,
   "id": "d9cb4c60-b213-46bf-88d4-ca901434b3c2",
   "metadata": {},
   "outputs": [],
   "source": []
  }
 ],
 "metadata": {
  "kernelspec": {
   "display_name": "Python 3 (ipykernel)",
   "language": "python",
   "name": "python3"
  },
  "language_info": {
   "codemirror_mode": {
    "name": "ipython",
    "version": 3
   },
   "file_extension": ".py",
   "mimetype": "text/x-python",
   "name": "python",
   "nbconvert_exporter": "python",
   "pygments_lexer": "ipython3",
   "version": "3.9.6"
  }
 },
 "nbformat": 4,
 "nbformat_minor": 5
}
